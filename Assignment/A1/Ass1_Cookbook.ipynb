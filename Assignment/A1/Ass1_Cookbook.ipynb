{
  "nbformat": 4,
  "nbformat_minor": 0,
  "metadata": {
    "colab": {
      "provenance": []
    },
    "kernelspec": {
      "name": "python3",
      "display_name": "Python 3"
    },
    "language_info": {
      "name": "python"
    }
  },
  "cells": [
    {
      "cell_type": "markdown",
      "source": [
        "Download Little Women Book, from Gutenberg"
      ],
      "metadata": {
        "id": "qcwVrBANKtN0"
      }
    },
    {
      "cell_type": "code",
      "execution_count": null,
      "metadata": {
        "colab": {
          "base_uri": "https://localhost:8080/"
        },
        "id": "Hokqbuof7tLw",
        "outputId": "0d969257-6a9c-41f2-e5ed-4b7a6cab0c0a"
      },
      "outputs": [
        {
          "output_type": "stream",
          "name": "stderr",
          "text": [
            "[nltk_data] Downloading package punkt to /root/nltk_data...\n",
            "[nltk_data]   Package punkt is already up-to-date!\n",
            "[nltk_data] Downloading package stopwords to /root/nltk_data...\n",
            "[nltk_data]   Package stopwords is already up-to-date!\n"
          ]
        },
        {
          "output_type": "stream",
          "name": "stdout",
          "text": [
            "['ï', 'project', 'gutenberg', 'ebook', 'little', 'women', 'louisa', 'alcott', 'ebook', 'use']\n"
          ]
        }
      ],
      "source": [
        "import requests\n",
        "from bs4 import BeautifulSoup\n",
        "import nltk\n",
        "from nltk.tokenize import word_tokenize\n",
        "from nltk.corpus import stopwords\n",
        "import string\n",
        "\n",
        "# Download NLTK data\n",
        "nltk.download('punkt')\n",
        "nltk.download('stopwords')\n",
        "\n",
        "def get_book_clean_tokens(book_id):\n",
        "    # Example book id for Little Women on Project Gutenberg\n",
        "    url = f'http://www.gutenberg.org/files/{book_id}/{book_id}-0.txt'\n",
        "\n",
        "    try:\n",
        "        # Get the book text from the URL\n",
        "        response = requests.get(url)\n",
        "        response.raise_for_status()\n",
        "\n",
        "        # Extract text from the HTML content\n",
        "        soup = BeautifulSoup(response.text, 'html.parser')\n",
        "        book_text = soup.get_text()\n",
        "\n",
        "        # Tokenize the text using NLTK\n",
        "        tokens = word_tokenize(book_text)\n",
        "\n",
        "        # Remove punctuation and convert to lowercase\n",
        "        tokens = [word.lower() for word in tokens if word.isalnum()]\n",
        "\n",
        "        # Remove stop words\n",
        "        stop_words = set(stopwords.words('english'))\n",
        "        tokens = [word for word in tokens if word not in stop_words]\n",
        "\n",
        "        return tokens\n",
        "\n",
        "    except requests.exceptions.RequestException as e:\n",
        "        print(f'Error: {e}')\n",
        "        return None\n",
        "\n",
        "# Use the Project Gutenberg book id for Little Women ID: 37106\n",
        "book_tokens = get_book_clean_tokens('37106')\n",
        "\n",
        "if book_tokens:\n",
        "    # Print the first 10 tokens as an example\n",
        "    print(book_tokens[:10])\n"
      ]
    },
    {
      "cell_type": "markdown",
      "source": [
        "Count wh, words"
      ],
      "metadata": {
        "id": "j8OGWCfJLLME"
      }
    },
    {
      "cell_type": "code",
      "source": [
        "def count_wh_words(tokens):\n",
        "    # Count words that start with \"wh\"\n",
        "    wh_words = [word for word in tokens if word.startswith(\"wh\")]\n",
        "    return len(wh_words)\n",
        "\n",
        "# Use the Project Gutenberg book id for Little Women\n",
        "book_tokens = get_book_clean_tokens('37106')\n",
        "\n",
        "if book_tokens:\n",
        "\n",
        "    # Count and print the number of words that start with \"wh\"\n",
        "    wh_word_count = count_wh_words(book_tokens)\n",
        "    print(f\"Number of words that start with 'wh': {wh_word_count}\")"
      ],
      "metadata": {
        "colab": {
          "base_uri": "https://localhost:8080/"
        },
        "id": "E00IiPgRBU-m",
        "outputId": "f68d77b7-90a5-4de8-d328-2ec9d0293aeb"
      },
      "execution_count": null,
      "outputs": [
        {
          "output_type": "stream",
          "name": "stdout",
          "text": [
            "Number of words that start with 'wh': 353\n"
          ]
        }
      ]
    },
    {
      "cell_type": "markdown",
      "source": [
        "Frequency distribution of top 10 words"
      ],
      "metadata": {
        "id": "vA4Y8UmbLNvU"
      }
    },
    {
      "cell_type": "code",
      "source": [
        "from nltk import FreqDist\n",
        "import string\n",
        "import matplotlib.pyplot as plt\n",
        "\n",
        "def calculate_word_frequency(tokens):\n",
        "    # Calculate word frequency distribution\n",
        "    freq_dist = FreqDist(tokens)\n",
        "    return freq_dist\n",
        "\n",
        "def print_top_words_with_frequency(freq_dist, n=10):\n",
        "    # Print the top n words and their frequencies\n",
        "    print(f\"Top {n} words in the book:\")\n",
        "    for word, frequency in freq_dist.most_common(n):\n",
        "        print(f\"{word}: {frequency}\")\n",
        "\n",
        "def plot_frequency_distribution(freq_dist, n=30):\n",
        "    # Plot the frequency distribution\n",
        "    freq_dist.plot(n, cumulative=False)\n",
        "    plt.show()\n",
        "\n",
        "if book_tokens:\n",
        "    # Calculate word frequency distribution\n",
        "    book_freq_dist = calculate_word_frequency(book_tokens)\n",
        "\n",
        "    # Print the top 10 words and their frequencies\n",
        "    print_top_words_with_frequency(book_freq_dist, n=10)\n",
        "\n",
        "    # Plot the frequency distribution\n",
        "    plot_frequency_distribution(book_freq_dist, n=10)"
      ],
      "metadata": {
        "colab": {
          "base_uri": "https://localhost:8080/",
          "height": 668
        },
        "id": "-rU8GiA1Bx7t",
        "outputId": "850d9ffa-e3f2-4bdd-e9c2-0e9333c018bd"
      },
      "execution_count": null,
      "outputs": [
        {
          "output_type": "stream",
          "name": "stdout",
          "text": [
            "Top 10 words in the book:\n",
            "jo: 1409\n",
            "one: 902\n",
            "said: 841\n",
            "little: 769\n",
            "meg: 700\n",
            "amy: 663\n",
            "laurie: 611\n",
            "like: 588\n",
            "would: 533\n",
            "beth: 492\n"
          ]
        },
        {
          "output_type": "display_data",
          "data": {
            "text/plain": [
              "<Figure size 640x480 with 1 Axes>"
            ],
            "image/png": "[encoded data removed]"
          },
          "metadata": {}
        }
      ]
    },
    {
      "cell_type": "markdown",
      "source": [
        "Explore senses of ambigous words, using wordnet"
      ],
      "metadata": {
        "id": "fBhIkmllLRyV"
      }
    },
    {
      "cell_type": "code",
      "source": [
        "from nltk.corpus import wordnet as wn\n",
        "nltk.download('wordnet')\n",
        "home = 'home'"
      ],
      "metadata": {
        "colab": {
          "base_uri": "https://localhost:8080/"
        },
        "id": "jauw5vNnDjZ4",
        "outputId": "ad7c1465-c533-4ad3-9abc-aae95270f275"
      },
      "execution_count": null,
      "outputs": [
        {
          "output_type": "stream",
          "name": "stderr",
          "text": [
            "[nltk_data] Downloading package wordnet to /root/nltk_data...\n",
            "[nltk_data]   Package wordnet is already up-to-date!\n"
          ]
        }
      ]
    },
    {
      "cell_type": "code",
      "source": [
        "home_synsets = wn.synsets(home)\n",
        "print('Synsets/Senses of Home:', home_synsets, '\\n\\n')"
      ],
      "metadata": {
        "colab": {
          "base_uri": "https://localhost:8080/"
        },
        "id": "PLqPzwG_D83I",
        "outputId": "42273f3c-12ce-43a9-c6e0-a9f7e30fd3cd"
      },
      "execution_count": null,
      "outputs": [
        {
          "output_type": "stream",
          "name": "stdout",
          "text": [
            "Synsets/Senses of Home: [Synset('home.n.01'), Synset('dwelling.n.01'), Synset('home.n.03'), Synset('home_plate.n.01'), Synset('base.n.14'), Synset('home.n.06'), Synset('home.n.07'), Synset('family.n.01'), Synset('home.n.09'), Synset('home.v.01'), Synset('home.v.02'), Synset('home.a.01'), Synset('home.a.02'), Synset('home.s.03'), Synset('home.r.01'), Synset('home.r.02'), Synset('home.r.03')] \n",
            "\n",
            "\n"
          ]
        }
      ]
    },
    {
      "cell_type": "code",
      "source": [
        "for synset in home_synsets:\n",
        " print(synset, ': ')\n",
        " print('Definition: ', synset.definition())\n",
        " print('Lemmas/Synonymous words: ', synset.lemma_names())\n",
        " print('Example: ', synset.examples(), '\\n')"
      ],
      "metadata": {
        "colab": {
          "base_uri": "https://localhost:8080/"
        },
        "id": "vqPuS26OFLoI",
        "outputId": "4de66462-ffae-46fa-f3a5-c411474cee2b"
      },
      "execution_count": null,
      "outputs": [
        {
          "output_type": "stream",
          "name": "stdout",
          "text": [
            "Synset('home.n.01') : \n",
            "Definition:  where you live at a particular time\n",
            "Lemmas/Synonymous words:  ['home', 'place']\n",
            "Example:  ['deliver the package to my home', \"he doesn't have a home to go to\", 'your place or mine?'] \n",
            "\n",
            "Synset('dwelling.n.01') : \n",
            "Definition:  housing that someone is living in\n",
            "Lemmas/Synonymous words:  ['dwelling', 'home', 'domicile', 'abode', 'habitation', 'dwelling_house']\n",
            "Example:  ['he built a modest dwelling near the pond', 'they raise money to provide homes for the homeless'] \n",
            "\n",
            "Synset('home.n.03') : \n",
            "Definition:  the country or state or city where you live\n",
            "Lemmas/Synonymous words:  ['home']\n",
            "Example:  ['Canadian tariffs enabled United States lumber companies to raise prices at home', 'his home is New Jersey'] \n",
            "\n",
            "Synset('home_plate.n.01') : \n",
            "Definition:  (baseball) base consisting of a rubber slab where the batter stands; it must be touched by a base runner in order to score\n",
            "Lemmas/Synonymous words:  ['home_plate', 'home_base', 'home', 'plate']\n",
            "Example:  ['he ruled that the runner failed to touch home'] \n",
            "\n",
            "Synset('base.n.14') : \n",
            "Definition:  the place where you are stationed and from which missions start and end\n",
            "Lemmas/Synonymous words:  ['base', 'home']\n",
            "Example:  [] \n",
            "\n",
            "Synset('home.n.06') : \n",
            "Definition:  place where something began and flourished\n",
            "Lemmas/Synonymous words:  ['home']\n",
            "Example:  ['the United States is the home of basketball'] \n",
            "\n",
            "Synset('home.n.07') : \n",
            "Definition:  an environment offering affection and security\n",
            "Lemmas/Synonymous words:  ['home']\n",
            "Example:  ['home is where the heart is', 'he grew up in a good Christian home', \"there's no place like home\"] \n",
            "\n",
            "Synset('family.n.01') : \n",
            "Definition:  a social unit living together\n",
            "Lemmas/Synonymous words:  ['family', 'household', 'house', 'home', 'menage']\n",
            "Example:  ['he moved his family to Virginia', 'It was a good Christian household', 'I waited until the whole house was asleep', 'the teacher asked how many people made up his home'] \n",
            "\n",
            "Synset('home.n.09') : \n",
            "Definition:  an institution where people are cared for\n",
            "Lemmas/Synonymous words:  ['home', 'nursing_home', 'rest_home']\n",
            "Example:  ['a home for the elderly'] \n",
            "\n",
            "Synset('home.v.01') : \n",
            "Definition:  provide with, or send to, a home\n",
            "Lemmas/Synonymous words:  ['home']\n",
            "Example:  [] \n",
            "\n",
            "Synset('home.v.02') : \n",
            "Definition:  return home accurately from a long distance\n",
            "Lemmas/Synonymous words:  ['home']\n",
            "Example:  ['homing pigeons'] \n",
            "\n",
            "Synset('home.a.01') : \n",
            "Definition:  used of your own ground\n",
            "Lemmas/Synonymous words:  ['home']\n",
            "Example:  ['a home game'] \n",
            "\n",
            "Synset('home.a.02') : \n",
            "Definition:  relating to or being where one lives or where one's roots are\n",
            "Lemmas/Synonymous words:  ['home']\n",
            "Example:  ['my home town'] \n",
            "\n",
            "Synset('home.s.03') : \n",
            "Definition:  inside the country\n",
            "Lemmas/Synonymous words:  ['home', 'interior', 'internal', 'national']\n",
            "Example:  ['the British Home Office has broader responsibilities than the United States Department of the Interior', \"the nation's internal politics\"] \n",
            "\n",
            "Synset('home.r.01') : \n",
            "Definition:  at or to or in the direction of one's home or family\n",
            "Lemmas/Synonymous words:  ['home']\n",
            "Example:  ['He stays home on weekends', 'after the game the children brought friends home for supper', \"I'll be home tomorrow\", 'came riding home in style', 'I hope you will come home for Christmas', \"I'll take her home\", \"don't forget to write home\"] \n",
            "\n",
            "Synset('home.r.02') : \n",
            "Definition:  on or to the point aimed at\n",
            "Lemmas/Synonymous words:  ['home']\n",
            "Example:  ['the arrow struck home'] \n",
            "\n",
            "Synset('home.r.03') : \n",
            "Definition:  to the fullest extent; to the heart\n",
            "Lemmas/Synonymous words:  ['home']\n",
            "Example:  ['drove the nail home', 'drove his point home', 'his comments hit home'] \n",
            "\n"
          ]
        }
      ]
    },
    {
      "cell_type": "markdown",
      "source": [
        "Explore hypernyms and hyponyms of two words in wordnet"
      ],
      "metadata": {
        "id": "niZy8bl5LpvV"
      }
    },
    {
      "cell_type": "code",
      "source": [
        "def print_synset_info(word):\n",
        "  synsets = wn.synsets(word)\n",
        "  for synset in synsets:\n",
        "    print(f\"Synset: {synset.name()}\")\n",
        "    print(f\"Definition: {synset.definition()}\")\n",
        "    print(f\"Hypernyms: {[hypernym.name() for hypernym in synset.hypernyms()]}\")\n",
        "    print(f\"Hyponyms: {[hyponym.name() for hyponym in synset.hyponyms()]}\\n\")\n",
        "\n",
        "print('**************************************************************\\tFrined\\t***************************************************************')\n",
        "print_synset_info('friend')\n",
        "print('***************************************************************\\tTeacher\\t*************************************************************')\n",
        "print_synset_info('teacher')"
      ],
      "metadata": {
        "colab": {
          "base_uri": "https://localhost:8080/"
        },
        "id": "gBAvDyQAHlC1",
        "outputId": "c98d7e47-0497-4559-8554-81a90e3deee1"
      },
      "execution_count": null,
      "outputs": [
        {
          "output_type": "stream",
          "name": "stdout",
          "text": [
            "**************************************************************\tFrined\t***************************************************************\n",
            "Synset: friend.n.01\n",
            "Definition: a person you know well and regard with affection and trust\n",
            "Hypernyms: ['person.n.01']\n",
            "Hyponyms: ['alter_ego.n.01', 'amigo.n.01', 'best_friend.n.01', 'brother.n.04', 'buddy.n.01', 'companion.n.01', 'confidant.n.01', 'flatmate.n.01', 'girlfriend.n.01', 'light.n.08', 'mate.n.08', 'roommate.n.01', 'schoolfriend.n.01']\n",
            "\n",
            "Synset: ally.n.02\n",
            "Definition: an associate who provides cooperation or assistance\n",
            "Hypernyms: ['associate.n.01']\n",
            "Hyponyms: ['blood_brother.n.02']\n",
            "\n",
            "Synset: acquaintance.n.03\n",
            "Definition: a person with whom you are acquainted\n",
            "Hypernyms: ['person.n.01']\n",
            "Hyponyms: ['bunkmate.n.01', 'campmate.n.01', 'connection.n.04', 'end_man.n.02', 'homeboy.n.02', 'messmate.n.01', 'pickup.n.04', 'schoolmate.n.01']\n",
            "\n",
            "Synset: supporter.n.01\n",
            "Definition: a person who backs a politician or a team etc.\n",
            "Hypernyms: ['advocate.n.01']\n",
            "Hyponyms: ['anglophile.n.01', 'believer.n.01', 'boswell.n.02', 'cheerleader.n.01', 'confederate.n.01', 'corporatist.n.01', 'enthusiast.n.01', 'francophile.n.01', 'free_trader.n.01', 'functionalist.n.01', 'jacobite.n.01', 'loyalist.n.01', 'new_dealer.n.01', 'philhellene.n.01', 'pillar.n.03', 'roundhead.n.02', 'seconder.n.01', 'shavian.n.01', 'subscriber.n.01', 'sympathizer.n.02', 'toaster.n.01', 'upholder.n.01', 'voucher.n.01', 'whig.n.02']\n",
            "\n",
            "Synset: friend.n.05\n",
            "Definition: a member of the Religious Society of Friends founded by George Fox (the Friends have never called themselves Quakers)\n",
            "Hypernyms: ['christian.n.01']\n",
            "Hyponyms: []\n",
            "\n",
            "***************************************************************\tTeacher\t*************************************************************\n",
            "Synset: teacher.n.01\n",
            "Definition: a person whose occupation is teaching\n",
            "Hypernyms: ['educator.n.01']\n",
            "Hyponyms: ['art_teacher.n.01', 'bahai.n.01', 'catechist.n.01', 'coach.n.02', 'dancing-master.n.01', 'demonstrator.n.01', 'docent.n.01', 'english_teacher.n.01', 'french_teacher.n.01', 'governess.n.01', 'instructress.n.01', 'math_teacher.n.01', 'missionary.n.01', 'music_teacher.n.01', 'preceptor.n.01', 'reading_teacher.n.01', 'riding_master.n.01', 'schoolteacher.n.01', 'science_teacher.n.01', 'section_man.n.01', 'teaching_fellow.n.01']\n",
            "\n",
            "Synset: teacher.n.02\n",
            "Definition: a personified abstraction that teaches\n",
            "Hypernyms: ['abstraction.n.01']\n",
            "Hyponyms: []\n",
            "\n"
          ]
        }
      ]
    },
    {
      "cell_type": "markdown",
      "source": [
        "Compute the average polysemy of different part of speech tagging"
      ],
      "metadata": {
        "id": "KRxW4XfsLvMX"
      }
    },
    {
      "cell_type": "code",
      "source": [
        "from nltk.corpus import wordnet as wn\n",
        "\n",
        "def average_polysemy(pos):\n",
        "    total_senses = 0\n",
        "    total_words = 0\n",
        "\n",
        "    for synset in wn.all_synsets(pos=pos):\n",
        "        total_senses += len(synset.lemmas())\n",
        "        total_words += 1\n",
        "\n",
        "    if total_words == 0:\n",
        "        return 0  # To avoid division by zero if there are no words for a given POS\n",
        "\n",
        "    return total_senses / total_words\n",
        "\n",
        "# Calculate average polysemy for nouns, verbs, adjectives, and adverbs\n",
        "average_polysemy_nouns = average_polysemy(wn.NOUN)\n",
        "average_polysemy_verbs = average_polysemy(wn.VERB)\n",
        "average_polysemy_adjectives = average_polysemy(wn.ADJ)\n",
        "average_polysemy_adverbs = average_polysemy(wn.ADV)\n",
        "\n",
        "# Print the results\n",
        "print(\"Average Polysemy for Nouns:\", average_polysemy_nouns)\n",
        "print(\"Average Polysemy for Verbs:\", average_polysemy_verbs)\n",
        "print(\"Average Polysemy for Adjectives:\", average_polysemy_adjectives)\n",
        "print(\"Average Polysemy for Adverbs:\", average_polysemy_adverbs)\n"
      ],
      "metadata": {
        "colab": {
          "base_uri": "https://localhost:8080/"
        },
        "id": "GnoxSxQGJ4jM",
        "outputId": "730c8ab7-d501-467a-bce8-ab4826ec7f16"
      },
      "execution_count": null,
      "outputs": [
        {
          "output_type": "stream",
          "name": "stdout",
          "text": [
            "Average Polysemy for Nouns: 1.782220057236802\n",
            "Average Polysemy for Verbs: 1.8193506210503378\n",
            "Average Polysemy for Adjectives: 1.6525666446353822\n",
            "Average Polysemy for Adverbs: 1.5410107705053853\n"
          ]
        }
      ]
    }
  ]
}