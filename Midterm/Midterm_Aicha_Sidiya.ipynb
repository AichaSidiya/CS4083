{
  "nbformat": 4,
  "nbformat_minor": 0,
  "metadata": {
    "colab": {
      "provenance": []
    },
    "kernelspec": {
      "name": "python3",
      "display_name": "Python 3"
    },
    "language_info": {
      "name": "python"
    }
  },
  "cells": [
    {
      "cell_type": "markdown",
      "source": [
        "Aicha Sidiya - S20106146"
      ],
      "metadata": {
        "id": "8MTkUnuaRf-T"
      }
    },
    {
      "cell_type": "markdown",
      "source": [
        "Step 1: Upload the Data and View it"
      ],
      "metadata": {
        "id": "2EgdLdz9Rk6i"
      }
    },
    {
      "cell_type": "code",
      "execution_count": 295,
      "metadata": {
        "id": "GYtZ12AUCWO8"
      },
      "outputs": [],
      "source": [
        "import pandas as pd\n",
        "import numpy as np\n",
        "df = pd.read_csv(\"customer_support_tickets.csv\")"
      ]
    },
    {
      "cell_type": "code",
      "source": [
        "df.head"
      ],
      "metadata": {
        "colab": {
          "base_uri": "https://localhost:8080/"
        },
        "id": "vzxxwJZuCpRZ",
        "outputId": "a883d449-6600-46b1-e32d-c8f32332bb31"
      },
      "execution_count": 296,
      "outputs": [
        {
          "output_type": "execute_result",
          "data": {
            "text/plain": [
              "<bound method NDFrame.head of       Ticket ID        Customer Name              Customer Email  \\\n",
              "0             1        Marisa Obrien  carrollallison@example.com   \n",
              "1             2         Jessica Rios    clarkeashley@example.com   \n",
              "2             3  Christopher Robbins   gonzalestracy@example.com   \n",
              "3             4     Christina Dillon    bradleyolson@example.org   \n",
              "4             5    Alexander Carroll     bradleymark@example.com   \n",
              "...         ...                  ...                         ...   \n",
              "8464       8465           David Todd          adam28@example.net   \n",
              "8465       8466           Lori Davis       russell68@example.com   \n",
              "8466       8467      Michelle Kelley        ashley83@example.org   \n",
              "8467       8468     Steven Rodriguez         fpowell@example.org   \n",
              "8468       8469      Steven Davis MD          lori20@example.net   \n",
              "\n",
              "      Customer Age Customer Gender       Product Purchased Date of Purchase  \\\n",
              "0               32           Other              GoPro Hero       2021-03-22   \n",
              "1               42          Female             LG Smart TV       2021-05-22   \n",
              "2               48           Other                Dell XPS       2020-07-14   \n",
              "3               27          Female        Microsoft Office       2020-11-13   \n",
              "4               67          Female        Autodesk AutoCAD       2020-02-04   \n",
              "...            ...             ...                     ...              ...   \n",
              "8464            22          Female                 LG OLED       2021-12-08   \n",
              "8465            27          Female  Bose SoundLink Speaker       2020-02-22   \n",
              "8466            57          Female     GoPro Action Camera       2021-08-17   \n",
              "8467            54            Male             PlayStation       2021-10-16   \n",
              "8468            53           Other      Philips Hue Lights       2020-06-01   \n",
              "\n",
              "          Ticket Type            Ticket Subject  \\\n",
              "0     Technical issue             Product setup   \n",
              "1     Technical issue  Peripheral compatibility   \n",
              "2     Technical issue           Network problem   \n",
              "3     Billing inquiry            Account access   \n",
              "4     Billing inquiry                 Data loss   \n",
              "...               ...                       ...   \n",
              "8464  Product inquiry      Installation support   \n",
              "8465  Technical issue            Refund request   \n",
              "8466  Technical issue            Account access   \n",
              "8467  Product inquiry             Payment issue   \n",
              "8468  Billing inquiry            Hardware issue   \n",
              "\n",
              "                                     Ticket Description  \\\n",
              "0     I'm having an issue with the {product_purchase...   \n",
              "1     I'm having an issue with the {product_purchase...   \n",
              "2     I'm facing a problem with my {product_purchase...   \n",
              "3     I'm having an issue with the {product_purchase...   \n",
              "4     I'm having an issue with the {product_purchase...   \n",
              "...                                                 ...   \n",
              "8464  My {product_purchased} is making strange noise...   \n",
              "8465  I'm having an issue with the {product_purchase...   \n",
              "8466  I'm having an issue with the {product_purchase...   \n",
              "8467  I'm having an issue with the {product_purchase...   \n",
              "8468  There seems to be a hardware problem with my {...   \n",
              "\n",
              "                  Ticket Status  \\\n",
              "0     Pending Customer Response   \n",
              "1     Pending Customer Response   \n",
              "2                        Closed   \n",
              "3                        Closed   \n",
              "4                        Closed   \n",
              "...                         ...   \n",
              "8464                       Open   \n",
              "8465                       Open   \n",
              "8466                     Closed   \n",
              "8467                     Closed   \n",
              "8468                       Open   \n",
              "\n",
              "                                         Resolution Ticket Priority  \\\n",
              "0                                               NaN        Critical   \n",
              "1                                               NaN        Critical   \n",
              "2      Case maybe show recently my computer follow.             Low   \n",
              "3     Try capital clearly never color toward story.             Low   \n",
              "4                       West decision evidence bit.             Low   \n",
              "...                                             ...             ...   \n",
              "8464                                            NaN             Low   \n",
              "8465                                            NaN        Critical   \n",
              "8466          Eight account century nature kitchen.            High   \n",
              "8467                          We seat culture plan.          Medium   \n",
              "8468                                            NaN            High   \n",
              "\n",
              "     Ticket Channel  First Response Time   Time to Resolution  \\\n",
              "0      Social media  2023-06-01 12:15:36                  NaN   \n",
              "1              Chat  2023-06-01 16:45:38                  NaN   \n",
              "2      Social media  2023-06-01 11:14:38  2023-06-01 18:05:38   \n",
              "3      Social media  2023-06-01 07:29:40  2023-06-01 01:57:40   \n",
              "4             Email  2023-06-01 00:12:42  2023-06-01 19:53:42   \n",
              "...             ...                  ...                  ...   \n",
              "8464          Phone                  NaN                  NaN   \n",
              "8465          Email                  NaN                  NaN   \n",
              "8466   Social media  2023-06-01 09:44:22  2023-06-01 04:31:22   \n",
              "8467          Email  2023-06-01 18:28:24  2023-06-01 05:32:24   \n",
              "8468          Phone                  NaN                  NaN   \n",
              "\n",
              "      Customer Satisfaction Rating  \n",
              "0                              NaN  \n",
              "1                              NaN  \n",
              "2                              3.0  \n",
              "3                              3.0  \n",
              "4                              1.0  \n",
              "...                            ...  \n",
              "8464                           NaN  \n",
              "8465                           NaN  \n",
              "8466                           3.0  \n",
              "8467                           3.0  \n",
              "8468                           NaN  \n",
              "\n",
              "[8469 rows x 17 columns]>"
            ]
          },
          "metadata": {},
          "execution_count": 296
        }
      ]
    },
    {
      "cell_type": "markdown",
      "source": [
        "Step 2: Split the data into training and testing with a 80/20 percentage"
      ],
      "metadata": {
        "id": "ViTWVt5PRsep"
      }
    },
    {
      "cell_type": "code",
      "source": [
        "train = df[7100:7600]\n",
        "train.head"
      ],
      "metadata": {
        "colab": {
          "base_uri": "https://localhost:8080/"
        },
        "id": "WuyFq42tDGKF",
        "outputId": "c7b702fb-148c-4def-8b0e-77ee08ff11a2"
      },
      "execution_count": 297,
      "outputs": [
        {
          "output_type": "execute_result",
          "data": {
            "text/plain": [
              "<bound method NDFrame.head of       Ticket ID        Customer Name                 Customer Email  \\\n",
              "7100       7101         Larry Weaver         michelle45@example.net   \n",
              "7101       7102      Bailey Hamilton         boydgeorge@example.com   \n",
              "7102       7103      James Stevenson            tturner@example.net   \n",
              "7103       7104        Ashley Nguyen      michelejordan@example.org   \n",
              "7104       7105           April Hart          shelley05@example.com   \n",
              "...         ...                  ...                            ...   \n",
              "7595       7596  Christopher English           kedwards@example.org   \n",
              "7596       7597       Joshua Edwards          paulcline@example.com   \n",
              "7597       7598   Christina Mckinney          graylacey@example.org   \n",
              "7598       7599           Kelsey Lin  fernandezkimberly@example.net   \n",
              "7599       7600      Alexander Henry      barnescarolyn@example.com   \n",
              "\n",
              "      Customer Age Customer Gender  Product Purchased Date of Purchase  \\\n",
              "7100            59            Male          Canon EOS       2021-07-30   \n",
              "7101            24          Female    Adobe Photoshop       2020-12-14   \n",
              "7102            43           Other             iPhone       2020-02-17   \n",
              "7103            20          Female      Apple AirPods       2021-09-08   \n",
              "7104            62           Other    Nest Thermostat       2020-05-20   \n",
              "...            ...             ...                ...              ...   \n",
              "7595            22          Female    Nest Thermostat       2021-11-16   \n",
              "7596            47           Other  Bose QuietComfort       2021-11-29   \n",
              "7597            24            Male        MacBook Pro       2021-12-06   \n",
              "7598            60            Male   Microsoft Office       2020-06-17   \n",
              "7599            25          Female        PlayStation       2020-10-17   \n",
              "\n",
              "          Ticket Type            Ticket Subject  \\\n",
              "7100  Technical issue            Refund request   \n",
              "7101   Refund request                 Data loss   \n",
              "7102  Billing inquiry            Refund request   \n",
              "7103  Billing inquiry          Delivery problem   \n",
              "7104  Billing inquiry  Peripheral compatibility   \n",
              "...               ...                       ...   \n",
              "7595  Billing inquiry     Product compatibility   \n",
              "7596  Product inquiry    Product recommendation   \n",
              "7597  Billing inquiry            Account access   \n",
              "7598   Refund request      Installation support   \n",
              "7599   Refund request                 Data loss   \n",
              "\n",
              "                                     Ticket Description  \\\n",
              "7100  I've recently set up my {product_purchased}, b...   \n",
              "7101  I'm having an issue with the {product_purchase...   \n",
              "7102  I'm having an issue with the {product_purchase...   \n",
              "7103  I'm having an issue with the {product_purchase...   \n",
              "7104  I'm having an issue with the {product_purchase...   \n",
              "...                                                 ...   \n",
              "7595  I'm having an issue with the {product_purchase...   \n",
              "7596  My {product_purchased} crashed, and I lost all...   \n",
              "7597  I'm having an issue with the {product_purchase...   \n",
              "7598  I'm having an issue with the {product_purchase...   \n",
              "7599  I'm having an issue with the {product_purchase...   \n",
              "\n",
              "                  Ticket Status  \\\n",
              "7100  Pending Customer Response   \n",
              "7101                       Open   \n",
              "7102                     Closed   \n",
              "7103                       Open   \n",
              "7104                       Open   \n",
              "...                         ...   \n",
              "7595                     Closed   \n",
              "7596  Pending Customer Response   \n",
              "7597                       Open   \n",
              "7598                     Closed   \n",
              "7599                       Open   \n",
              "\n",
              "                                             Resolution Ticket Priority  \\\n",
              "7100                                                NaN        Critical   \n",
              "7101                                                NaN            High   \n",
              "7102                     Over boy true figure when act.            High   \n",
              "7103                                                NaN        Critical   \n",
              "7104                                                NaN          Medium   \n",
              "...                                                 ...             ...   \n",
              "7595              Hotel century size here second first.          Medium   \n",
              "7596                                                NaN          Medium   \n",
              "7597                                                NaN             Low   \n",
              "7598  Right letter democratic thing sing impact loss...             Low   \n",
              "7599                                                NaN             Low   \n",
              "\n",
              "     Ticket Channel  First Response Time   Time to Resolution  \\\n",
              "7100          Email  2023-06-01 02:41:33                  NaN   \n",
              "7101           Chat                  NaN                  NaN   \n",
              "7102           Chat  2023-06-01 15:24:37  2023-06-01 15:46:37   \n",
              "7103           Chat                  NaN                  NaN   \n",
              "7104   Social media                  NaN                  NaN   \n",
              "...             ...                  ...                  ...   \n",
              "7595          Email  2023-06-01 02:05:06  2023-06-01 06:02:06   \n",
              "7596          Phone  2023-06-01 12:02:07                  NaN   \n",
              "7597          Phone                  NaN                  NaN   \n",
              "7598           Chat  2023-06-01 03:06:10  2023-06-01 07:07:10   \n",
              "7599          Phone                  NaN                  NaN   \n",
              "\n",
              "      Customer Satisfaction Rating  \n",
              "7100                           NaN  \n",
              "7101                           NaN  \n",
              "7102                           1.0  \n",
              "7103                           NaN  \n",
              "7104                           NaN  \n",
              "...                            ...  \n",
              "7595                           3.0  \n",
              "7596                           NaN  \n",
              "7597                           NaN  \n",
              "7598                           3.0  \n",
              "7599                           NaN  \n",
              "\n",
              "[500 rows x 17 columns]>"
            ]
          },
          "metadata": {},
          "execution_count": 297
        }
      ]
    },
    {
      "cell_type": "code",
      "source": [
        "test = df[7600:7800]\n",
        "test.head"
      ],
      "metadata": {
        "colab": {
          "base_uri": "https://localhost:8080/"
        },
        "id": "ZfXlIUfDDVfr",
        "outputId": "9d7d8e30-3036-4940-d2a1-f9434d21149e"
      },
      "execution_count": 298,
      "outputs": [
        {
          "output_type": "execute_result",
          "data": {
            "text/plain": [
              "<bound method NDFrame.head of       Ticket ID     Customer Name              Customer Email  Customer Age  \\\n",
              "7600       7601    Matthew Murphy     josephquinn@example.com            20   \n",
              "7601       7602       Carl Hardin       michael55@example.net            27   \n",
              "7602       7603      George Lloyd     scottharris@example.net            64   \n",
              "7603       7604  Brandon Gonzalez  meganrodriguez@example.org            63   \n",
              "7604       7605  Charles Callahan   courtneysingh@example.com            70   \n",
              "...         ...               ...                         ...           ...   \n",
              "7795       7796     Timothy Davis           abush@example.com            60   \n",
              "7796       7797   Katherine Adams       brucereed@example.org            67   \n",
              "7797       7798       Shelia Carr         lgarcia@example.com            69   \n",
              "7798       7799  Kimberly Collier       bradley20@example.com            36   \n",
              "7799       7800      Justin Brown      floreslisa@example.net            58   \n",
              "\n",
              "     Customer Gender          Product Purchased Date of Purchase  \\\n",
              "7600           Other               Google Pixel       2020-07-23   \n",
              "7601            Male           Sony PlayStation       2020-02-12   \n",
              "7602          Female          Bose QuietComfort       2021-01-16   \n",
              "7603            Male                    Nikon D       2020-08-24   \n",
              "7604          Female         LG Washing Machine       2020-06-11   \n",
              "...              ...                        ...              ...   \n",
              "7795            Male  Microsoft Xbox Controller       2020-02-10   \n",
              "7796          Female           Sony PlayStation       2020-02-02   \n",
              "7797          Female    Fitbit Versa Smartwatch       2021-11-21   \n",
              "7798           Other        GoPro Action Camera       2020-06-19   \n",
              "7799          Female           Autodesk AutoCAD       2021-05-28   \n",
              "\n",
              "               Ticket Type         Ticket Subject  \\\n",
              "7600       Product inquiry  Product compatibility   \n",
              "7601        Refund request         Account access   \n",
              "7602  Cancellation request         Hardware issue   \n",
              "7603       Product inquiry          Display issue   \n",
              "7604  Cancellation request         Refund request   \n",
              "...                    ...                    ...   \n",
              "7795  Cancellation request              Data loss   \n",
              "7796       Billing inquiry         Account access   \n",
              "7797       Technical issue        Network problem   \n",
              "7798       Product inquiry   Installation support   \n",
              "7799  Cancellation request          Display issue   \n",
              "\n",
              "                                     Ticket Description  \\\n",
              "7600  I'm having an issue with the {product_purchase...   \n",
              "7601  I'm facing a problem with my {product_purchase...   \n",
              "7602  I'm having an issue with the {product_purchase...   \n",
              "7603  I'm having an issue with the {product_purchase...   \n",
              "7604  I'm having an issue with the {product_purchase...   \n",
              "...                                                 ...   \n",
              "7795  I'm having an issue with the {product_purchase...   \n",
              "7796  I'm having an issue with the {product_purchase...   \n",
              "7797  I've noticed a software bug in the {product_pu...   \n",
              "7798  I'm having an issue with the {product_purchase...   \n",
              "7799  I'm having an issue with the {product_purchase...   \n",
              "\n",
              "                  Ticket Status                                  Resolution  \\\n",
              "7600                     Closed  Tend reflect image toward size investment.   \n",
              "7601                     Closed       Game draw wall cultural floor assume.   \n",
              "7602  Pending Customer Response                                         NaN   \n",
              "7603                     Closed   Shoulder behavior also Democrat material.   \n",
              "7604  Pending Customer Response                                         NaN   \n",
              "...                         ...                                         ...   \n",
              "7795                       Open                                         NaN   \n",
              "7796  Pending Customer Response                                         NaN   \n",
              "7797  Pending Customer Response                                         NaN   \n",
              "7798                     Closed                        Rich special doctor.   \n",
              "7799                       Open                                         NaN   \n",
              "\n",
              "     Ticket Priority Ticket Channel  First Response Time   Time to Resolution  \\\n",
              "7600            High   Social media  2023-06-01 14:52:14  2023-06-01 15:02:14   \n",
              "7601        Critical           Chat  2023-06-01 08:28:15  2023-06-01 16:18:15   \n",
              "7602        Critical          Phone  2023-06-01 23:03:15                  NaN   \n",
              "7603          Medium   Social media  2023-06-01 06:46:17  2023-06-01 11:59:17   \n",
              "7604          Medium           Chat  2023-06-01 23:23:19                  NaN   \n",
              "...              ...            ...                  ...                  ...   \n",
              "7795        Critical          Phone                  NaN                  NaN   \n",
              "7796             Low          Email  2023-06-01 09:20:44                  NaN   \n",
              "7797            High          Phone  2023-06-01 11:28:45                  NaN   \n",
              "7798          Medium   Social media  2023-06-01 15:40:47  2023-06-01 03:28:47   \n",
              "7799             Low          Email                  NaN                  NaN   \n",
              "\n",
              "      Customer Satisfaction Rating  \n",
              "7600                           5.0  \n",
              "7601                           5.0  \n",
              "7602                           NaN  \n",
              "7603                           2.0  \n",
              "7604                           NaN  \n",
              "...                            ...  \n",
              "7795                           NaN  \n",
              "7796                           NaN  \n",
              "7797                           NaN  \n",
              "7798                           4.0  \n",
              "7799                           NaN  \n",
              "\n",
              "[200 rows x 17 columns]>"
            ]
          },
          "metadata": {},
          "execution_count": 298
        }
      ]
    },
    {
      "cell_type": "markdown",
      "source": [
        "Step 3: Clean the data by replacing null with 3.0 (average)"
      ],
      "metadata": {
        "id": "N1YTQsebR1aL"
      }
    },
    {
      "cell_type": "code",
      "source": [
        "train['Customer Satisfaction Rating'] = train['Customer Satisfaction Rating'].fillna(3.0)\n",
        "train.head"
      ],
      "metadata": {
        "colab": {
          "base_uri": "https://localhost:8080/"
        },
        "id": "0IX0F2_eFWbs",
        "outputId": "42b9196e-1827-4678-e1dc-c1cdc47ae840"
      },
      "execution_count": 299,
      "outputs": [
        {
          "output_type": "stream",
          "name": "stderr",
          "text": [
            "<ipython-input-299-d2ea7de686d5>:1: SettingWithCopyWarning: \n",
            "A value is trying to be set on a copy of a slice from a DataFrame.\n",
            "Try using .loc[row_indexer,col_indexer] = value instead\n",
            "\n",
            "See the caveats in the documentation: https://pandas.pydata.org/pandas-docs/stable/user_guide/indexing.html#returning-a-view-versus-a-copy\n",
            "  train['Customer Satisfaction Rating'] = train['Customer Satisfaction Rating'].fillna(3.0)\n"
          ]
        },
        {
          "output_type": "execute_result",
          "data": {
            "text/plain": [
              "<bound method NDFrame.head of       Ticket ID        Customer Name                 Customer Email  \\\n",
              "7100       7101         Larry Weaver         michelle45@example.net   \n",
              "7101       7102      Bailey Hamilton         boydgeorge@example.com   \n",
              "7102       7103      James Stevenson            tturner@example.net   \n",
              "7103       7104        Ashley Nguyen      michelejordan@example.org   \n",
              "7104       7105           April Hart          shelley05@example.com   \n",
              "...         ...                  ...                            ...   \n",
              "7595       7596  Christopher English           kedwards@example.org   \n",
              "7596       7597       Joshua Edwards          paulcline@example.com   \n",
              "7597       7598   Christina Mckinney          graylacey@example.org   \n",
              "7598       7599           Kelsey Lin  fernandezkimberly@example.net   \n",
              "7599       7600      Alexander Henry      barnescarolyn@example.com   \n",
              "\n",
              "      Customer Age Customer Gender  Product Purchased Date of Purchase  \\\n",
              "7100            59            Male          Canon EOS       2021-07-30   \n",
              "7101            24          Female    Adobe Photoshop       2020-12-14   \n",
              "7102            43           Other             iPhone       2020-02-17   \n",
              "7103            20          Female      Apple AirPods       2021-09-08   \n",
              "7104            62           Other    Nest Thermostat       2020-05-20   \n",
              "...            ...             ...                ...              ...   \n",
              "7595            22          Female    Nest Thermostat       2021-11-16   \n",
              "7596            47           Other  Bose QuietComfort       2021-11-29   \n",
              "7597            24            Male        MacBook Pro       2021-12-06   \n",
              "7598            60            Male   Microsoft Office       2020-06-17   \n",
              "7599            25          Female        PlayStation       2020-10-17   \n",
              "\n",
              "          Ticket Type            Ticket Subject  \\\n",
              "7100  Technical issue            Refund request   \n",
              "7101   Refund request                 Data loss   \n",
              "7102  Billing inquiry            Refund request   \n",
              "7103  Billing inquiry          Delivery problem   \n",
              "7104  Billing inquiry  Peripheral compatibility   \n",
              "...               ...                       ...   \n",
              "7595  Billing inquiry     Product compatibility   \n",
              "7596  Product inquiry    Product recommendation   \n",
              "7597  Billing inquiry            Account access   \n",
              "7598   Refund request      Installation support   \n",
              "7599   Refund request                 Data loss   \n",
              "\n",
              "                                     Ticket Description  \\\n",
              "7100  I've recently set up my {product_purchased}, b...   \n",
              "7101  I'm having an issue with the {product_purchase...   \n",
              "7102  I'm having an issue with the {product_purchase...   \n",
              "7103  I'm having an issue with the {product_purchase...   \n",
              "7104  I'm having an issue with the {product_purchase...   \n",
              "...                                                 ...   \n",
              "7595  I'm having an issue with the {product_purchase...   \n",
              "7596  My {product_purchased} crashed, and I lost all...   \n",
              "7597  I'm having an issue with the {product_purchase...   \n",
              "7598  I'm having an issue with the {product_purchase...   \n",
              "7599  I'm having an issue with the {product_purchase...   \n",
              "\n",
              "                  Ticket Status  \\\n",
              "7100  Pending Customer Response   \n",
              "7101                       Open   \n",
              "7102                     Closed   \n",
              "7103                       Open   \n",
              "7104                       Open   \n",
              "...                         ...   \n",
              "7595                     Closed   \n",
              "7596  Pending Customer Response   \n",
              "7597                       Open   \n",
              "7598                     Closed   \n",
              "7599                       Open   \n",
              "\n",
              "                                             Resolution Ticket Priority  \\\n",
              "7100                                                NaN        Critical   \n",
              "7101                                                NaN            High   \n",
              "7102                     Over boy true figure when act.            High   \n",
              "7103                                                NaN        Critical   \n",
              "7104                                                NaN          Medium   \n",
              "...                                                 ...             ...   \n",
              "7595              Hotel century size here second first.          Medium   \n",
              "7596                                                NaN          Medium   \n",
              "7597                                                NaN             Low   \n",
              "7598  Right letter democratic thing sing impact loss...             Low   \n",
              "7599                                                NaN             Low   \n",
              "\n",
              "     Ticket Channel  First Response Time   Time to Resolution  \\\n",
              "7100          Email  2023-06-01 02:41:33                  NaN   \n",
              "7101           Chat                  NaN                  NaN   \n",
              "7102           Chat  2023-06-01 15:24:37  2023-06-01 15:46:37   \n",
              "7103           Chat                  NaN                  NaN   \n",
              "7104   Social media                  NaN                  NaN   \n",
              "...             ...                  ...                  ...   \n",
              "7595          Email  2023-06-01 02:05:06  2023-06-01 06:02:06   \n",
              "7596          Phone  2023-06-01 12:02:07                  NaN   \n",
              "7597          Phone                  NaN                  NaN   \n",
              "7598           Chat  2023-06-01 03:06:10  2023-06-01 07:07:10   \n",
              "7599          Phone                  NaN                  NaN   \n",
              "\n",
              "      Customer Satisfaction Rating  \n",
              "7100                           3.0  \n",
              "7101                           3.0  \n",
              "7102                           1.0  \n",
              "7103                           3.0  \n",
              "7104                           3.0  \n",
              "...                            ...  \n",
              "7595                           3.0  \n",
              "7596                           3.0  \n",
              "7597                           3.0  \n",
              "7598                           3.0  \n",
              "7599                           3.0  \n",
              "\n",
              "[500 rows x 17 columns]>"
            ]
          },
          "metadata": {},
          "execution_count": 299
        }
      ]
    },
    {
      "cell_type": "code",
      "source": [
        "test['Customer Satisfaction Rating'] = test['Customer Satisfaction Rating'].fillna(3.0)\n",
        "test.head"
      ],
      "metadata": {
        "colab": {
          "base_uri": "https://localhost:8080/"
        },
        "id": "Iijr_EwFFmF-",
        "outputId": "64031142-5b8a-47c2-f041-e0ace616a889"
      },
      "execution_count": 300,
      "outputs": [
        {
          "output_type": "stream",
          "name": "stderr",
          "text": [
            "<ipython-input-300-30f404122345>:1: SettingWithCopyWarning: \n",
            "A value is trying to be set on a copy of a slice from a DataFrame.\n",
            "Try using .loc[row_indexer,col_indexer] = value instead\n",
            "\n",
            "See the caveats in the documentation: https://pandas.pydata.org/pandas-docs/stable/user_guide/indexing.html#returning-a-view-versus-a-copy\n",
            "  test['Customer Satisfaction Rating'] = test['Customer Satisfaction Rating'].fillna(3.0)\n"
          ]
        },
        {
          "output_type": "execute_result",
          "data": {
            "text/plain": [
              "<bound method NDFrame.head of       Ticket ID     Customer Name              Customer Email  Customer Age  \\\n",
              "7600       7601    Matthew Murphy     josephquinn@example.com            20   \n",
              "7601       7602       Carl Hardin       michael55@example.net            27   \n",
              "7602       7603      George Lloyd     scottharris@example.net            64   \n",
              "7603       7604  Brandon Gonzalez  meganrodriguez@example.org            63   \n",
              "7604       7605  Charles Callahan   courtneysingh@example.com            70   \n",
              "...         ...               ...                         ...           ...   \n",
              "7795       7796     Timothy Davis           abush@example.com            60   \n",
              "7796       7797   Katherine Adams       brucereed@example.org            67   \n",
              "7797       7798       Shelia Carr         lgarcia@example.com            69   \n",
              "7798       7799  Kimberly Collier       bradley20@example.com            36   \n",
              "7799       7800      Justin Brown      floreslisa@example.net            58   \n",
              "\n",
              "     Customer Gender          Product Purchased Date of Purchase  \\\n",
              "7600           Other               Google Pixel       2020-07-23   \n",
              "7601            Male           Sony PlayStation       2020-02-12   \n",
              "7602          Female          Bose QuietComfort       2021-01-16   \n",
              "7603            Male                    Nikon D       2020-08-24   \n",
              "7604          Female         LG Washing Machine       2020-06-11   \n",
              "...              ...                        ...              ...   \n",
              "7795            Male  Microsoft Xbox Controller       2020-02-10   \n",
              "7796          Female           Sony PlayStation       2020-02-02   \n",
              "7797          Female    Fitbit Versa Smartwatch       2021-11-21   \n",
              "7798           Other        GoPro Action Camera       2020-06-19   \n",
              "7799          Female           Autodesk AutoCAD       2021-05-28   \n",
              "\n",
              "               Ticket Type         Ticket Subject  \\\n",
              "7600       Product inquiry  Product compatibility   \n",
              "7601        Refund request         Account access   \n",
              "7602  Cancellation request         Hardware issue   \n",
              "7603       Product inquiry          Display issue   \n",
              "7604  Cancellation request         Refund request   \n",
              "...                    ...                    ...   \n",
              "7795  Cancellation request              Data loss   \n",
              "7796       Billing inquiry         Account access   \n",
              "7797       Technical issue        Network problem   \n",
              "7798       Product inquiry   Installation support   \n",
              "7799  Cancellation request          Display issue   \n",
              "\n",
              "                                     Ticket Description  \\\n",
              "7600  I'm having an issue with the {product_purchase...   \n",
              "7601  I'm facing a problem with my {product_purchase...   \n",
              "7602  I'm having an issue with the {product_purchase...   \n",
              "7603  I'm having an issue with the {product_purchase...   \n",
              "7604  I'm having an issue with the {product_purchase...   \n",
              "...                                                 ...   \n",
              "7795  I'm having an issue with the {product_purchase...   \n",
              "7796  I'm having an issue with the {product_purchase...   \n",
              "7797  I've noticed a software bug in the {product_pu...   \n",
              "7798  I'm having an issue with the {product_purchase...   \n",
              "7799  I'm having an issue with the {product_purchase...   \n",
              "\n",
              "                  Ticket Status                                  Resolution  \\\n",
              "7600                     Closed  Tend reflect image toward size investment.   \n",
              "7601                     Closed       Game draw wall cultural floor assume.   \n",
              "7602  Pending Customer Response                                         NaN   \n",
              "7603                     Closed   Shoulder behavior also Democrat material.   \n",
              "7604  Pending Customer Response                                         NaN   \n",
              "...                         ...                                         ...   \n",
              "7795                       Open                                         NaN   \n",
              "7796  Pending Customer Response                                         NaN   \n",
              "7797  Pending Customer Response                                         NaN   \n",
              "7798                     Closed                        Rich special doctor.   \n",
              "7799                       Open                                         NaN   \n",
              "\n",
              "     Ticket Priority Ticket Channel  First Response Time   Time to Resolution  \\\n",
              "7600            High   Social media  2023-06-01 14:52:14  2023-06-01 15:02:14   \n",
              "7601        Critical           Chat  2023-06-01 08:28:15  2023-06-01 16:18:15   \n",
              "7602        Critical          Phone  2023-06-01 23:03:15                  NaN   \n",
              "7603          Medium   Social media  2023-06-01 06:46:17  2023-06-01 11:59:17   \n",
              "7604          Medium           Chat  2023-06-01 23:23:19                  NaN   \n",
              "...              ...            ...                  ...                  ...   \n",
              "7795        Critical          Phone                  NaN                  NaN   \n",
              "7796             Low          Email  2023-06-01 09:20:44                  NaN   \n",
              "7797            High          Phone  2023-06-01 11:28:45                  NaN   \n",
              "7798          Medium   Social media  2023-06-01 15:40:47  2023-06-01 03:28:47   \n",
              "7799             Low          Email                  NaN                  NaN   \n",
              "\n",
              "      Customer Satisfaction Rating  \n",
              "7600                           5.0  \n",
              "7601                           5.0  \n",
              "7602                           3.0  \n",
              "7603                           2.0  \n",
              "7604                           3.0  \n",
              "...                            ...  \n",
              "7795                           3.0  \n",
              "7796                           3.0  \n",
              "7797                           3.0  \n",
              "7798                           4.0  \n",
              "7799                           3.0  \n",
              "\n",
              "[200 rows x 17 columns]>"
            ]
          },
          "metadata": {},
          "execution_count": 300
        }
      ]
    },
    {
      "cell_type": "markdown",
      "source": [
        "Step 4: Transform data into binary classification (good/bad)"
      ],
      "metadata": {
        "id": "DB2wz2zKR8CZ"
      }
    },
    {
      "cell_type": "code",
      "source": [
        "train.loc[7100:7600, 'Customer Satisfaction Rating'] = train.loc[7100:7600, 'Customer Satisfaction Rating'].apply(lambda x: 1 if x > 3 else 0)"
      ],
      "metadata": {
        "id": "5ZGqebsuOjcG",
        "colab": {
          "base_uri": "https://localhost:8080/"
        },
        "outputId": "2bca231f-2dd9-4f05-c658-4986c33b96a8"
      },
      "execution_count": 301,
      "outputs": [
        {
          "output_type": "stream",
          "name": "stderr",
          "text": [
            "<ipython-input-301-73e28b694600>:1: SettingWithCopyWarning: \n",
            "A value is trying to be set on a copy of a slice from a DataFrame.\n",
            "Try using .loc[row_indexer,col_indexer] = value instead\n",
            "\n",
            "See the caveats in the documentation: https://pandas.pydata.org/pandas-docs/stable/user_guide/indexing.html#returning-a-view-versus-a-copy\n",
            "  train.loc[7100:7600, 'Customer Satisfaction Rating'] = train.loc[7100:7600, 'Customer Satisfaction Rating'].apply(lambda x: 1 if x > 3 else 0)\n",
            "<ipython-input-301-73e28b694600>:1: DeprecationWarning: In a future version, `df.iloc[:, i] = newvals` will attempt to set the values inplace instead of always setting a new array. To retain the old behavior, use either `df[df.columns[i]] = newvals` or, if columns are non-unique, `df.isetitem(i, newvals)`\n",
            "  train.loc[7100:7600, 'Customer Satisfaction Rating'] = train.loc[7100:7600, 'Customer Satisfaction Rating'].apply(lambda x: 1 if x > 3 else 0)\n"
          ]
        }
      ]
    },
    {
      "cell_type": "code",
      "source": [
        "test.loc[7600:7800, 'Customer Satisfaction Rating'] = test.loc[7600:7800, 'Customer Satisfaction Rating'].apply(lambda x: 1 if x > 3 else 0)"
      ],
      "metadata": {
        "id": "n43tmX4xPYJN",
        "colab": {
          "base_uri": "https://localhost:8080/"
        },
        "outputId": "0519fd7e-3e58-4bd8-b34f-5a7a9a045a94"
      },
      "execution_count": 302,
      "outputs": [
        {
          "output_type": "stream",
          "name": "stderr",
          "text": [
            "<ipython-input-302-415c061873d7>:1: SettingWithCopyWarning: \n",
            "A value is trying to be set on a copy of a slice from a DataFrame.\n",
            "Try using .loc[row_indexer,col_indexer] = value instead\n",
            "\n",
            "See the caveats in the documentation: https://pandas.pydata.org/pandas-docs/stable/user_guide/indexing.html#returning-a-view-versus-a-copy\n",
            "  test.loc[7600:7800, 'Customer Satisfaction Rating'] = test.loc[7600:7800, 'Customer Satisfaction Rating'].apply(lambda x: 1 if x > 3 else 0)\n",
            "<ipython-input-302-415c061873d7>:1: DeprecationWarning: In a future version, `df.iloc[:, i] = newvals` will attempt to set the values inplace instead of always setting a new array. To retain the old behavior, use either `df[df.columns[i]] = newvals` or, if columns are non-unique, `df.isetitem(i, newvals)`\n",
            "  test.loc[7600:7800, 'Customer Satisfaction Rating'] = test.loc[7600:7800, 'Customer Satisfaction Rating'].apply(lambda x: 1 if x > 3 else 0)\n"
          ]
        }
      ]
    },
    {
      "cell_type": "markdown",
      "source": [
        "Step 5: View Data Distribution"
      ],
      "metadata": {
        "id": "loX-daWYSahB"
      }
    },
    {
      "cell_type": "code",
      "source": [
        "count = 0\n",
        "for index, row in train.iterrows():\n",
        "    if row['Customer Satisfaction Rating'] == 0:\n",
        "        count += 1\n",
        "\n",
        "count"
      ],
      "metadata": {
        "colab": {
          "base_uri": "https://localhost:8080/"
        },
        "id": "Ka9aTdC_P7bF",
        "outputId": "c3f93930-0e7c-4104-c1cb-7e38bee0aa47"
      },
      "execution_count": 303,
      "outputs": [
        {
          "output_type": "execute_result",
          "data": {
            "text/plain": [
              "432"
            ]
          },
          "metadata": {},
          "execution_count": 303
        }
      ]
    },
    {
      "cell_type": "code",
      "source": [
        "count = 0\n",
        "for index, row in test.iterrows():\n",
        "    if row['Customer Satisfaction Rating'] == 0:\n",
        "        count += 1\n",
        "\n",
        "count"
      ],
      "metadata": {
        "colab": {
          "base_uri": "https://localhost:8080/"
        },
        "id": "fYdnR4TZQA34",
        "outputId": "6825385f-a058-4af1-8e75-38b941245102"
      },
      "execution_count": 304,
      "outputs": [
        {
          "output_type": "execute_result",
          "data": {
            "text/plain": [
              "175"
            ]
          },
          "metadata": {},
          "execution_count": 304
        }
      ]
    },
    {
      "cell_type": "markdown",
      "source": [
        "Step 6: Define x and y (feature and label)"
      ],
      "metadata": {
        "id": "ff-b_dFBSfL7"
      }
    },
    {
      "cell_type": "code",
      "source": [
        "x_train = train['Ticket Description']\n",
        "y_train = train['Customer Satisfaction Rating'].apply(str)\n",
        "x_train[7100]\n",
        "y_train[7100]"
      ],
      "metadata": {
        "colab": {
          "base_uri": "https://localhost:8080/",
          "height": 35
        },
        "id": "morL08GJDizt",
        "outputId": "37192423-f598-4fb0-ecae-5fc201f1806a"
      },
      "execution_count": 305,
      "outputs": [
        {
          "output_type": "execute_result",
          "data": {
            "text/plain": [
              "'0'"
            ],
            "application/vnd.google.colaboratory.intrinsic+json": {
              "type": "string"
            }
          },
          "metadata": {},
          "execution_count": 305
        }
      ]
    },
    {
      "cell_type": "code",
      "source": [
        "x_test = test['Ticket Description']\n",
        "y_test = test['Customer Satisfaction Rating'].apply(str)\n",
        "x_test[7601]\n",
        "y_test[7601]"
      ],
      "metadata": {
        "colab": {
          "base_uri": "https://localhost:8080/",
          "height": 35
        },
        "id": "Ddkom7ntDtPG",
        "outputId": "832ba0e5-3406-4432-defe-e7a99555b4d8"
      },
      "execution_count": 306,
      "outputs": [
        {
          "output_type": "execute_result",
          "data": {
            "text/plain": [
              "'1'"
            ],
            "application/vnd.google.colaboratory.intrinsic+json": {
              "type": "string"
            }
          },
          "metadata": {},
          "execution_count": 306
        }
      ]
    },
    {
      "cell_type": "markdown",
      "source": [
        "Step 7: Download needed models for performing nlp steps"
      ],
      "metadata": {
        "id": "-lMqi8fYSm5v"
      }
    },
    {
      "cell_type": "code",
      "source": [
        "from nltk.tokenize import RegexpTokenizer\n",
        "\n",
        "from nltk import word_tokenize\n",
        "\n",
        "from nltk.stem.porter import PorterStemmer\n",
        "\n",
        "from nltk.stem.wordnet import WordNetLemmatizer\n",
        "\n",
        "from nltk.corpus import stopwords\n",
        "\n",
        "import nltk\n",
        "\n",
        "import re\n",
        "\n",
        "import string\n",
        "\n",
        "nltk.download('punkt')\n",
        "\n",
        "nltk.download('wordnet')\n",
        "\n",
        "nltk.download('stopwords')\n",
        "\n",
        "tokenizer=RegexpTokenizer(r'\\w+')\n",
        "en_stopwords=set(stopwords.words('english'))\n",
        "ps=PorterStemmer()\n",
        "wnet = WordNetLemmatizer()"
      ],
      "metadata": {
        "colab": {
          "base_uri": "https://localhost:8080/"
        },
        "id": "wIvPIbLiEN3O",
        "outputId": "46a65819-702e-42ed-8ba5-b393365d2d1d"
      },
      "execution_count": 307,
      "outputs": [
        {
          "output_type": "stream",
          "name": "stderr",
          "text": [
            "[nltk_data] Downloading package punkt to /root/nltk_data...\n",
            "[nltk_data]   Package punkt is already up-to-date!\n",
            "[nltk_data] Downloading package wordnet to /root/nltk_data...\n",
            "[nltk_data]   Package wordnet is already up-to-date!\n",
            "[nltk_data] Downloading package stopwords to /root/nltk_data...\n",
            "[nltk_data]   Package stopwords is already up-to-date!\n"
          ]
        }
      ]
    },
    {
      "cell_type": "code",
      "source": [
        "def cleanText(text):\n",
        "\n",
        "  #step 1 lowering\n",
        "\n",
        "  text.lower()\n",
        "\n",
        "  #step 2 stem words\n",
        "\n",
        "  stem_list = [ps.stem(word) for word in text.split()]\n",
        "  text = ''.join(ps.stem(word) for word in text)\n",
        "\n",
        "  #step 3 lemmetaization\n",
        "  lemm_list = [wnet.lemmatize(word) for word in text.split()]\n",
        "  text = ''.join(wnet.lemmatize(word) for word in text)\n",
        "\n",
        "  #step 4 stopwords\n",
        "\n",
        "  # list to add filtered words from review\n",
        "  filtered_text = []\n",
        "  # verify & append words from the text to filtered_text list\n",
        "  for word in text.split():\n",
        "      if word not in en_stopwords:\n",
        "        filtered_text.append(word)\n",
        "  # add content from filtered_text list to new variable\n",
        "  clean_review = filtered_text[:]\n",
        "  # emptying the filtered_text list for new review\n",
        "  filtered_text.clear()\n",
        "\n",
        "  return ' '.join(clean_review)"
      ],
      "metadata": {
        "id": "gI8VA70EEkO8"
      },
      "execution_count": 308,
      "outputs": []
    },
    {
      "cell_type": "code",
      "source": [
        "x_str = x_train.apply(str)\n",
        "xt_str = x_test.apply(str)"
      ],
      "metadata": {
        "id": "YpYPSNvkEqu1"
      },
      "execution_count": 309,
      "outputs": []
    },
    {
      "cell_type": "code",
      "source": [
        "x_clean = x_str.apply(cleanText)\n",
        "xt_clean = xt_str.apply(cleanText)"
      ],
      "metadata": {
        "id": "L6z0KobCEteM"
      },
      "execution_count": 310,
      "outputs": []
    },
    {
      "cell_type": "code",
      "source": [
        "x_clean"
      ],
      "metadata": {
        "colab": {
          "base_uri": "https://localhost:8080/"
        },
        "id": "8w6V9ILxExVX",
        "outputId": "8f480a8d-2c9c-4c3e-972d-8ff1cde67548"
      },
      "execution_count": 311,
      "outputs": [
        {
          "output_type": "execute_result",
          "data": {
            "text/plain": [
              "7100    i've recently set {product_purchased}, fails c...\n",
              "7101    i'm issue {product_purchased}. please assist. ...\n",
              "7102    i'm issue {product_purchased}. please assist. ...\n",
              "7103    i'm issue {product_purchased}. please assist. ...\n",
              "7104    i'm issue {product_purchased}. please assist. ...\n",
              "                              ...                        \n",
              "7595    i'm issue {product_purchased}. please assist. ...\n",
              "7596    {product_purchased} crashed, lost data stored ...\n",
              "7597    i'm issue {product_purchased}. please assist. ...\n",
              "7598    i'm issue {product_purchased}. please assist. ...\n",
              "7599    i'm issue {product_purchased}. please assist. ...\n",
              "Name: Ticket Description, Length: 500, dtype: object"
            ]
          },
          "metadata": {},
          "execution_count": 311
        }
      ]
    },
    {
      "cell_type": "code",
      "source": [
        "xt_clean"
      ],
      "metadata": {
        "colab": {
          "base_uri": "https://localhost:8080/"
        },
        "id": "8vlxWHvnE003",
        "outputId": "d84170ef-ccdd-445f-af07-1e0b1e347dae"
      },
      "execution_count": 312,
      "outputs": [
        {
          "output_type": "execute_result",
          "data": {
            "text/plain": [
              "7600    i'm issue {product_purchased}. please assist. ...\n",
              "7601    i'm facing problem {product_purchased}. {produ...\n",
              "7602    i'm issue {product_purchased}. please assist. ...\n",
              "7603    i'm issue {product_purchased}. please assist. ...\n",
              "7604    i'm issue {product_purchased}. please assist. ...\n",
              "                              ...                        \n",
              "7795    i'm issue {product_purchased}. please assist. ...\n",
              "7796    i'm issue {product_purchased}. please assist. ...\n",
              "7797    i've noticed software bug {product_purchased} ...\n",
              "7798    i'm issue {product_purchased}. please assist. ...\n",
              "7799    i'm issue {product_purchased}. please assist. ...\n",
              "Name: Ticket Description, Length: 200, dtype: object"
            ]
          },
          "metadata": {},
          "execution_count": 312
        }
      ]
    },
    {
      "cell_type": "markdown",
      "source": [
        "Step 8: Vectorize and extract Features"
      ],
      "metadata": {
        "id": "gfdl1VnuSydC"
      }
    },
    {
      "cell_type": "code",
      "source": [
        "from sklearn.feature_extraction.text import CountVectorizer\n",
        "\n",
        "cv=CountVectorizer(ngram_range=(1,2))\n",
        "\n",
        "x_vec=cv.fit_transform(x_clean).toarray()\n",
        "\n",
        "x_vec"
      ],
      "metadata": {
        "colab": {
          "base_uri": "https://localhost:8080/"
        },
        "id": "Ons68NkQE3wU",
        "outputId": "5ab4a295-ad72-4d9c-c29a-ed1477f4444b"
      },
      "execution_count": 313,
      "outputs": [
        {
          "output_type": "execute_result",
          "data": {
            "text/plain": [
              "array([[0, 0, 0, ..., 0, 0, 0],\n",
              "       [0, 0, 0, ..., 0, 0, 0],\n",
              "       [0, 0, 0, ..., 0, 0, 0],\n",
              "       ...,\n",
              "       [0, 0, 0, ..., 0, 0, 0],\n",
              "       [0, 0, 0, ..., 0, 0, 0],\n",
              "       [0, 0, 0, ..., 0, 0, 0]])"
            ]
          },
          "metadata": {},
          "execution_count": 313
        }
      ]
    },
    {
      "cell_type": "code",
      "source": [
        "cv.get_feature_names_out()"
      ],
      "metadata": {
        "colab": {
          "base_uri": "https://localhost:8080/"
        },
        "id": "QGXEZjh1E_Z6",
        "outputId": "53042dc3-9cb7-474c-a191-91e90548e572"
      },
      "execution_count": 314,
      "outputs": [
        {
          "output_type": "execute_result",
          "data": {
            "text/plain": [
              "array(['00', '00 00', '00 15', ..., 'zilp ve', 'zoom', 'zoom out'],\n",
              "      dtype=object)"
            ]
          },
          "metadata": {},
          "execution_count": 314
        }
      ]
    },
    {
      "cell_type": "code",
      "source": [
        "xt_vec=cv.transform(xt_clean).toarray()"
      ],
      "metadata": {
        "id": "bDJONsb_FAz3"
      },
      "execution_count": 315,
      "outputs": []
    },
    {
      "cell_type": "markdown",
      "source": [
        "Step 9: Build Naive Bayes Model"
      ],
      "metadata": {
        "id": "LfhkwXJ8S3ci"
      }
    },
    {
      "cell_type": "code",
      "source": [
        "from sklearn.naive_bayes import MultinomialNB\n",
        "#this version of naive bayes is used for text classification\n",
        "\n",
        "mn=MultinomialNB()\n",
        "\n",
        "mn.fit(x_vec,y_train)\n",
        "\n",
        "y_pred=mn.predict(xt_vec)\n",
        "\n",
        "y_pred"
      ],
      "metadata": {
        "colab": {
          "base_uri": "https://localhost:8080/"
        },
        "id": "dJO9Ic1aFDi0",
        "outputId": "477e449f-a5c9-4360-c900-d4741829c22a"
      },
      "execution_count": 316,
      "outputs": [
        {
          "output_type": "execute_result",
          "data": {
            "text/plain": [
              "array(['0', '0', '0', '0', '0', '0', '0', '0', '0', '0', '0', '0', '0',\n",
              "       '0', '0', '0', '0', '0', '0', '0', '0', '0', '0', '0', '0', '0',\n",
              "       '1', '0', '0', '0', '0', '0', '0', '0', '0', '0', '0', '0', '0',\n",
              "       '0', '0', '0', '0', '0', '0', '0', '0', '0', '0', '0', '0', '0',\n",
              "       '0', '0', '0', '0', '0', '0', '0', '0', '0', '0', '0', '0', '0',\n",
              "       '0', '0', '0', '0', '0', '0', '0', '0', '0', '0', '0', '0', '0',\n",
              "       '0', '0', '0', '0', '0', '0', '0', '0', '0', '0', '0', '0', '0',\n",
              "       '0', '0', '0', '0', '0', '0', '0', '0', '0', '0', '0', '0', '0',\n",
              "       '0', '1', '0', '0', '0', '0', '0', '0', '0', '0', '0', '0', '0',\n",
              "       '0', '0', '0', '0', '0', '0', '0', '0', '0', '0', '0', '0', '0',\n",
              "       '0', '0', '0', '0', '0', '0', '0', '0', '0', '0', '0', '0', '0',\n",
              "       '0', '0', '0', '0', '0', '0', '0', '0', '0', '0', '0', '0', '0',\n",
              "       '0', '0', '0', '0', '0', '0', '0', '0', '0', '0', '0', '0', '0',\n",
              "       '0', '0', '0', '0', '0', '0', '0', '0', '0', '0', '0', '0', '0',\n",
              "       '0', '0', '0', '0', '0', '0', '0', '0', '0', '0', '0', '0', '0',\n",
              "       '0', '0', '0', '0', '0'], dtype='<U1')"
            ]
          },
          "metadata": {},
          "execution_count": 316
        }
      ]
    },
    {
      "cell_type": "code",
      "source": [
        "y_test"
      ],
      "metadata": {
        "colab": {
          "base_uri": "https://localhost:8080/"
        },
        "id": "Ks6aZUstJKMR",
        "outputId": "b6849b05-317f-46e8-f311-ad1f23f8fba5"
      },
      "execution_count": 317,
      "outputs": [
        {
          "output_type": "execute_result",
          "data": {
            "text/plain": [
              "7600    1\n",
              "7601    1\n",
              "7602    0\n",
              "7603    0\n",
              "7604    0\n",
              "       ..\n",
              "7795    0\n",
              "7796    0\n",
              "7797    0\n",
              "7798    1\n",
              "7799    0\n",
              "Name: Customer Satisfaction Rating, Length: 200, dtype: object"
            ]
          },
          "metadata": {},
          "execution_count": 317
        }
      ]
    },
    {
      "cell_type": "markdown",
      "source": [
        "Step 10: Evaluate Model"
      ],
      "metadata": {
        "id": "SOdJfwtHS8TP"
      }
    },
    {
      "cell_type": "code",
      "source": [
        "from sklearn.metrics import accuracy_score\n",
        "print(\"Accuracy\", accuracy_score(y_test, y_pred))"
      ],
      "metadata": {
        "colab": {
          "base_uri": "https://localhost:8080/"
        },
        "id": "boZ9sF9WFMR9",
        "outputId": "4a16cefe-27df-4087-dad7-0ed055b60f80"
      },
      "execution_count": 318,
      "outputs": [
        {
          "output_type": "stream",
          "name": "stdout",
          "text": [
            "Accuracy 0.865\n"
          ]
        }
      ]
    }
  ]
}